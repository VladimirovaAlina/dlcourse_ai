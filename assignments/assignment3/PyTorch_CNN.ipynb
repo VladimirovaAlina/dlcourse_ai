{
 "cells": [
  {
   "cell_type": "markdown",
   "metadata": {},
   "source": [
    "# Задание 3.2 - сверточные нейронные сети (CNNs) в PyTorch\n",
    "\n",
    "Это упражнение мы буде выполнять в Google Colab - https://colab.research.google.com/  \n",
    "Google Colab позволяет запускать код в notebook в облаке Google, где можно воспользоваться бесплатным GPU!  \n",
    "\n",
    "Авторы курса благодарят компанию Google и надеятся, что праздник не закончится.\n",
    "\n",
    "Туториал по настройке Google Colab:  \n",
    "https://medium.com/deep-learning-turkey/google-colab-free-gpu-tutorial-e113627b9f5d  \n",
    "(Keras инсталлировать не нужно, наш notebook сам установит PyTorch)\n"
   ]
  },
  {
   "cell_type": "code",
   "execution_count": 1,
   "metadata": {
    "colab": {},
    "colab_type": "code",
    "id": "FcXBeP1O7cnY"
   },
   "outputs": [],
   "source": [
    "# Intstall PyTorch and download data\n",
    "# !pip3 install torch torchvision\n",
    "\n",
    "# !wget -c http://ufldl.stanford.edu/housenumbers/train_32x32.mat http://ufldl.stanford.edu/housenumbers/test_32x32.mat"
   ]
  },
  {
   "cell_type": "code",
   "execution_count": 2,
   "metadata": {
    "colab": {},
    "colab_type": "code",
    "id": "-afwWw-Q85vD"
   },
   "outputs": [],
   "source": [
    "from collections import namedtuple\n",
    "\n",
    "import matplotlib.pyplot as plt\n",
    "import numpy as np\n",
    "import PIL\n",
    "import torch\n",
    "import torch.nn as nn\n",
    "import torch.optim as optim\n",
    "import torchvision.datasets as dset\n",
    "from torch.utils.data.sampler import SubsetRandomSampler\n",
    "\n",
    "from torchvision import transforms\n",
    "import random"
   ]
  },
  {
   "cell_type": "code",
   "execution_count": 3,
   "metadata": {},
   "outputs": [
    {
     "data": {
      "text/plain": [
       "'1.13.0'"
      ]
     },
     "execution_count": 3,
     "metadata": {},
     "output_type": "execute_result"
    }
   ],
   "source": [
    "torch.__version__"
   ]
  },
  {
   "cell_type": "code",
   "execution_count": 4,
   "metadata": {},
   "outputs": [
    {
     "name": "stdout",
     "output_type": "stream",
     "text": [
      "True\n",
      "True\n"
     ]
    }
   ],
   "source": [
    "print(torch.backends.mps.is_built())\n",
    "print(torch.backends.mps.is_available())"
   ]
  },
  {
   "cell_type": "code",
   "execution_count": 5,
   "metadata": {},
   "outputs": [
    {
     "data": {
      "text/plain": [
       "device(type='mps')"
      ]
     },
     "execution_count": 5,
     "metadata": {},
     "output_type": "execute_result"
    }
   ],
   "source": [
    "torch.device(\"mps\")"
   ]
  },
  {
   "cell_type": "code",
   "execution_count": 6,
   "metadata": {
    "colab": {},
    "colab_type": "code",
    "id": "NNU-OD9O9ltP"
   },
   "outputs": [],
   "source": [
    "device = torch.device(\"mps:0\") # Let's make sure GPU is available!"
   ]
  },
  {
   "cell_type": "code",
   "execution_count": 7,
   "metadata": {},
   "outputs": [
    {
     "data": {
      "text/plain": [
       "device(type='mps', index=0)"
      ]
     },
     "execution_count": 7,
     "metadata": {},
     "output_type": "execute_result"
    }
   ],
   "source": [
    "device"
   ]
  },
  {
   "cell_type": "markdown",
   "metadata": {},
   "source": [
    "# Загружаем данные"
   ]
  },
  {
   "cell_type": "code",
   "execution_count": 8,
   "metadata": {
    "colab": {},
    "colab_type": "code",
    "id": "YAvkoRx-9FsP"
   },
   "outputs": [],
   "source": [
    "# First, lets load the dataset\n",
    "data_train = dset.SVHN('../assignment1/data', \n",
    "                       transform=transforms.Compose([\n",
    "                           transforms.ToTensor(),\n",
    "                           transforms.Normalize(mean=[0.43,0.44,0.47],\n",
    "                                               std=[0.20,0.20,0.20])                           \n",
    "                       ])\n",
    "                      )\n",
    "data_test = dset.SVHN('../assignment1/data', split='test', transform=transforms.Compose([\n",
    "                           transforms.ToTensor(),\n",
    "                           transforms.Normalize(mean=[0.43,0.44,0.47],\n",
    "                                               std=[0.20,0.20,0.20])                           \n",
    "                       ]))"
   ]
  },
  {
   "cell_type": "markdown",
   "metadata": {},
   "source": [
    "Разделяем данные на training и validation.\n",
    "\n",
    "На всякий случай для подробностей - https://pytorch.org/tutorials/beginner/data_loading_tutorial.html"
   ]
  },
  {
   "cell_type": "code",
   "execution_count": 9,
   "metadata": {
    "colab": {},
    "colab_type": "code",
    "id": "YRnr8CPg7Hli"
   },
   "outputs": [],
   "source": [
    "batch_size = 64\n",
    "\n",
    "data_size = data_train.data.shape[0]\n",
    "validation_split = .2\n",
    "split = int(np.floor(validation_split * data_size))\n",
    "indices = list(range(data_size))\n",
    "np.random.shuffle(indices)\n",
    "\n",
    "train_indices, val_indices = indices[split:], indices[:split]\n",
    "\n",
    "train_sampler = SubsetRandomSampler(train_indices)\n",
    "val_sampler = SubsetRandomSampler(val_indices)\n",
    "\n",
    "train_loader = torch.utils.data.DataLoader(data_train, batch_size=batch_size, \n",
    "                                           sampler=train_sampler)\n",
    "val_loader = torch.utils.data.DataLoader(data_train, batch_size=batch_size,\n",
    "                                         sampler=val_sampler)"
   ]
  },
  {
   "cell_type": "code",
   "execution_count": 10,
   "metadata": {
    "colab": {},
    "colab_type": "code",
    "id": "LyYvt-T67PBG"
   },
   "outputs": [],
   "source": [
    "# We'll use a special helper module to shape it into a flat tensor\n",
    "class Flattener(nn.Module):\n",
    "    def forward(self, x):\n",
    "        batch_size, *_ = x.shape\n",
    "        return x.view(batch_size, -1)"
   ]
  },
  {
   "cell_type": "code",
   "execution_count": 11,
   "metadata": {},
   "outputs": [
    {
     "data": {
      "text/plain": [
       "(73257, 3, 32, 32)"
      ]
     },
     "execution_count": 11,
     "metadata": {},
     "output_type": "execute_result"
    }
   ],
   "source": [
    "data_train.data.shape"
   ]
  },
  {
   "cell_type": "markdown",
   "metadata": {},
   "source": [
    "Создадим простейшую сеть с новыми слоями:  \n",
    "Convolutional - `nn.Conv2d`  \n",
    "MaxPool - `nn.MaxPool2d`"
   ]
  },
  {
   "cell_type": "code",
   "execution_count": 12,
   "metadata": {
    "colab": {},
    "colab_type": "code",
    "id": "w9SFVGZP7SQd"
   },
   "outputs": [],
   "source": [
    "nn_model = nn.Sequential(\n",
    "            nn.Conv2d(3, 64, 3, padding=1),\n",
    "# in_channels (int) – Number of channels in the input image - 3(тк картинка RGB)\n",
    "# out_channels (int) – Number of channels produced by the convolution (будет 64 канала. тезор пухнет в ширину)\n",
    "# kernel_size (int or tuple) – Size of the convolving kernel (квадрат сверточный 3*3, получается)\n",
    "            nn.ReLU(inplace=True),\n",
    "            nn.MaxPool2d(4),\n",
    "            nn.Conv2d(64, 64, 3, padding=1),\n",
    "            nn.ReLU(inplace=True),\n",
    "            nn.MaxPool2d(4),    \n",
    "            Flattener(),\n",
    "            nn.Linear(64*2*2, 10),\n",
    "          )\n",
    "\n",
    "nn_model.type(torch.FloatTensor)\n",
    "nn_model.to(device)\n",
    "\n",
    "loss = nn.CrossEntropyLoss().type(torch.FloatTensor)\n",
    "optimizer = optim.SGD(nn_model.parameters(), lr=1e-1, weight_decay=1e-4)"
   ]
  },
  {
   "cell_type": "markdown",
   "metadata": {},
   "source": [
    "Восстановите функцию `compute_accuracy` из прошлого задания.  \n",
    "Единственное отличие в новом - она должна передать данные на GPU прежде чем прогонять через модель. Сделайте это так же, как это делает функция `train_model`"
   ]
  },
  {
   "cell_type": "code",
   "execution_count": 13,
   "metadata": {
    "colab": {},
    "colab_type": "code",
    "id": "2ek3KVQK7hJ6"
   },
   "outputs": [
    {
     "name": "stdout",
     "output_type": "stream",
     "text": [
      "Average loss: 1.365537, Train accuracy: 0.544040, Val accuracy: 0.638006\n",
      "Average loss: 0.696322, Train accuracy: 0.790670, Val accuracy: 0.805805\n",
      "Average loss: 0.595970, Train accuracy: 0.822493, Val accuracy: 0.787206\n",
      "Average loss: 0.549761, Train accuracy: 0.836621, Val accuracy: 0.833174\n",
      "Average loss: 0.516025, Train accuracy: 0.847678, Val accuracy: 0.862659\n"
     ]
    }
   ],
   "source": [
    "def train_model(model, train_loader, val_loader, loss, optimizer, num_epochs):    \n",
    "    loss_history = []\n",
    "    train_history = []\n",
    "    val_history = []\n",
    "    for epoch in range(num_epochs):\n",
    "        model.train() # Enter train mode\n",
    "        \n",
    "        loss_accum = 0\n",
    "        correct_samples = 0\n",
    "        total_samples = 0\n",
    "        for i_step, (x, y) in enumerate(train_loader):\n",
    "          \n",
    "            x_gpu = x.to(device)\n",
    "            y_gpu = y.to(device)\n",
    "            prediction = model(x_gpu)    \n",
    "            loss_value = loss(prediction, y_gpu)\n",
    "            optimizer.zero_grad()\n",
    "            loss_value.backward()\n",
    "            optimizer.step()\n",
    "            \n",
    "            _, indices = torch.max(prediction, 1)\n",
    "            correct_samples += torch.sum(indices == y_gpu)\n",
    "            total_samples += y.shape[0]\n",
    "            \n",
    "            loss_accum += loss_value\n",
    "\n",
    "        ave_loss = loss_accum / i_step\n",
    "        train_accuracy = float(correct_samples) / total_samples\n",
    "        val_accuracy = compute_accuracy(model, val_loader)\n",
    "        \n",
    "        loss_history.append(float(ave_loss))\n",
    "        train_history.append(train_accuracy)\n",
    "        val_history.append(val_accuracy)\n",
    "        \n",
    "        print(\"Average loss: %f, Train accuracy: %f, Val accuracy: %f\" % (ave_loss, train_accuracy, val_accuracy))\n",
    "        \n",
    "    return loss_history, train_history, val_history\n",
    "        \n",
    "def compute_accuracy(model, loader):\n",
    "    \"\"\"\n",
    "    Computes accuracy on the dataset wrapped in a loader\n",
    "    \n",
    "    Returns: accuracy as a float value between 0 and 1\n",
    "    \"\"\"\n",
    "    model.eval() # Evaluation mode\n",
    "    # TODO: Copy implementation from previous assignment\n",
    "    # Don't forget to move the data to device before running it through the model!\n",
    "    \n",
    "    true_rez = 0\n",
    "    ttl_rez = 0\n",
    "    for i_step, (x, y) in enumerate(train_loader):\n",
    "            x_gpu, y_gpu = x.to(device), y.to(device)\n",
    "            \n",
    "            prediction = model(x_gpu) \n",
    "            prediction_m_cl = torch.argmax(prediction, axis=1)\n",
    "            true_rez+=sum(prediction_m_cl==y_gpu)\n",
    "            ttl_rez+=len(prediction_m_cl)\n",
    "    return true_rez/ttl_rez\n",
    "\n",
    "loss_history, train_history, val_history = train_model(nn_model, train_loader, val_loader, loss, optimizer, 5)"
   ]
  },
  {
   "cell_type": "markdown",
   "metadata": {
    "colab_type": "text",
    "id": "6a-3a1ZFGEw_"
   },
   "source": [
    "# Аугментация данных (Data augmentation)\n",
    "\n",
    "В работе с изображениями одним из особенно важных методов является аугментация данных - то есть, генерация дополнительных данных для тренировки на основе изначальных.   \n",
    "Таким образом, мы получаем возможность \"увеличить\" набор данных для тренировки, что ведет к лучшей работе сети.\n",
    "Важно, чтобы аугментированные данные были похожи на те, которые могут встретиться в реальной жизни, иначе польза от аугментаций уменьшается и может ухудшить работу сети.\n",
    "\n",
    "С PyTorch идут несколько таких алгоритмов, называемых `transforms`. Более подробно про них можно прочитать тут -\n",
    "https://pytorch.org/tutorials/beginner/data_loading_tutorial.html#transforms\n",
    "\n",
    "Ниже мы используем следующие алгоритмы генерации:\n",
    "- ColorJitter - случайное изменение цвета\n",
    "- RandomHorizontalFlip - горизонтальное отражение с вероятностью 50%\n",
    "- RandomVerticalFlip - вертикальное отражение с вероятностью 50%\n",
    "- RandomRotation - случайный поворот"
   ]
  },
  {
   "cell_type": "code",
   "execution_count": 14,
   "metadata": {
    "colab": {},
    "colab_type": "code",
    "id": "jCWMUWmr7t5g"
   },
   "outputs": [],
   "source": [
    "tfs = transforms.Compose([\n",
    "    transforms.ColorJitter(hue=.50, saturation=.50),\n",
    "    transforms.RandomHorizontalFlip(),\n",
    "    transforms.RandomVerticalFlip(),\n",
    "    transforms.RandomRotation(10), #, resample=PIL.Image.BILINEAR),\n",
    "    transforms.ToTensor(),\n",
    "#     transforms.Normalize(mean=[0.43,0.44,0.47],\n",
    "#                        std=[0.20,0.20,0.20])                           \n",
    "])\n",
    "\n",
    "# Create augmented train dataset\n",
    "data_aug_train = dset.SVHN('../assignment1/data', \n",
    "                       transform=tfs\n",
    "                      )\n",
    "\n",
    "train_aug_loader = torch.utils.data.DataLoader(data_aug_train, batch_size=batch_size, \n",
    "                                           sampler=train_sampler)"
   ]
  },
  {
   "cell_type": "markdown",
   "metadata": {},
   "source": [
    "Визуализируем результаты агментации (вообще, смотреть на сгенерированные данные всегда очень полезно)."
   ]
  },
  {
   "cell_type": "code",
   "execution_count": 15,
   "metadata": {},
   "outputs": [
    {
     "data": {
      "image/png": "[encoded data removed]",
      "text/plain": [
       "<Figure size 2000x1500 with 10 Axes>"
      ]
     },
     "metadata": {},
     "output_type": "display_data"
    }
   ],
   "source": [
    "plt.figure(figsize=(20,15))\n",
    "\n",
    "for i in range(0,10):\n",
    "    if i%2==0:\n",
    "        # картинки с аугументацией\n",
    "        plt.subplot(1,10, i+1)\n",
    "        rnd_f = np.random.choice(np.array(range(0,train_aug_loader.dataset.data.shape[0])))\n",
    "        plt.axis('off')\n",
    "        \n",
    "        plt.imshow(np.moveaxis(data_aug_train[rnd_f][0].numpy(), 0, -1))\n",
    "    else:\n",
    "        # без аугументации\n",
    "        plt.subplot(1,10, i+1)\n",
    "        plt.axis('off')\n",
    "        plt.imshow(np.moveaxis(data_aug_train.data[rnd_f], 0, -1))"
   ]
  },
  {
   "cell_type": "code",
   "execution_count": 16,
   "metadata": {
    "colab": {},
    "colab_type": "code",
    "id": "YlJJEro1KZ45"
   },
   "outputs": [
    {
     "data": {
      "image/png": "[encoded data removed]",
      "text/plain": [
       "<Figure size 3000x300 with 10 Axes>"
      ]
     },
     "metadata": {},
     "output_type": "display_data"
    }
   ],
   "source": [
    "# TODO: Visualize some augmented images!\n",
    "# hint: you can create new datasets and loaders to accomplish this\n",
    "\n",
    "# Based on the visualizations, should we keep all the augmentations?\n",
    "\n",
    "tfs = transforms.Compose([\n",
    "    transforms.ColorJitter(hue=.20, saturation=.20),\n",
    "    transforms.RandomHorizontalFlip(),\n",
    "    transforms.RandomVerticalFlip(),\n",
    "    transforms.RandomRotation(10) #, resample=PIL.Image.BILINEAR),\n",
    "])\n",
    "\n",
    "data_aug_vis = dset.SVHN('../assignment1/data', \n",
    "                       transform=tfs\n",
    "                      )\n",
    "\n",
    "plt.figure(figsize=(30, 3))\n",
    "\n",
    "for i, (x, y) in enumerate(data_aug_vis):\n",
    "    if i == 10:\n",
    "        break\n",
    "    plt.subplot(1, 10, i+1)\n",
    "    plt.grid(False)\n",
    "    plt.imshow(x)\n",
    "    plt.axis('off')"
   ]
  },
  {
   "cell_type": "markdown",
   "metadata": {
    "colab_type": "text",
    "id": "o2LrmsYHoguB"
   },
   "source": [
    "Все ли агментации одинаково полезны на этом наборе данных? Могут ли быть среди них те, которые собьют модель с толку?\n",
    "\n",
    "Выберите из них только корректные"
   ]
  },
  {
   "cell_type": "code",
   "execution_count": 17,
   "metadata": {
    "colab": {},
    "colab_type": "code",
    "id": "evro9ksXGs9u"
   },
   "outputs": [],
   "source": [
    "# TODO: \n",
    "tfs = transforms.Compose([\n",
    "    # TODO: Add good augmentations\n",
    "    transforms.ColorJitter(hue=.20, saturation=.20),\n",
    "    transforms.RandomRotation(10),\n",
    "    transforms.ToTensor(),\n",
    "    transforms.Normalize(mean=[0.43,0.44,0.47],\n",
    "                       std=[0.20,0.20,0.20])                           \n",
    "])\n",
    "data_aug_my = dset.SVHN('../assignment1/data', \n",
    "                       transform=tfs\n",
    "                      )\n",
    "# TODO create new instances of loaders with the augmentations you chose\n",
    "train_aug_loader = torch.utils.data.DataLoader(data_aug_my, batch_size=batch_size, sampler=train_sampler)"
   ]
  },
  {
   "cell_type": "code",
   "execution_count": 18,
   "metadata": {
    "colab": {},
    "colab_type": "code",
    "id": "PeO6Zw0DHqPR"
   },
   "outputs": [
    {
     "name": "stdout",
     "output_type": "stream",
     "text": [
      "Average loss: 0.712281, Train accuracy: 0.780910, Val accuracy: 0.834095\n",
      "Average loss: 0.647280, Train accuracy: 0.802222, Val accuracy: 0.832082\n",
      "Average loss: 0.619877, Train accuracy: 0.809764, Val accuracy: 0.848650\n",
      "Average loss: 0.604234, Train accuracy: 0.813500, Val accuracy: 0.856772\n",
      "Average loss: 0.596084, Train accuracy: 0.817544, Val accuracy: 0.862779\n"
     ]
    }
   ],
   "source": [
    "# Finally, let's train with augmentations!\n",
    "\n",
    "# Note we shouldn't use augmentations on validation\n",
    "\n",
    "loss_history, train_history, val_history = train_model(nn_model, train_aug_loader, val_loader, loss, optimizer, 5)"
   ]
  },
  {
   "cell_type": "markdown",
   "metadata": {
    "colab_type": "text",
    "id": "r0bcioK6JBDK"
   },
   "source": [
    "# LeNet\n",
    "Попробуем имплементировать классическую архитектуру сверточной нейронной сети, предложенную Яном ЛеКуном в 1998 году. В свое время она достигла впечатляющих результатов на MNIST, посмотрим как она справится с SVHN?\n",
    "Она описана в статье [\"Gradient Based Learning Applied to Document Recognition\"](http://yann.lecun.com/exdb/publis/pdf/lecun-01a.pdf), попробуйте прочитать ключевые части и имплементировать предложенную архитетуру на PyTorch.\n",
    "\n",
    "Реализовывать слои и функцию ошибки LeNet, которых нет в PyTorch, **не нужно** - просто возьмите их размеры и переведите в уже известные нам Convolutional, Pooling и Fully Connected layers.\n",
    "\n",
    "Если в статье не очень понятно, можно просто погуглить LeNet и разобраться в деталях :)"
   ]
  },
  {
   "cell_type": "code",
   "execution_count": 19,
   "metadata": {
    "colab": {},
    "colab_type": "code",
    "id": "ieEzZUglJAUB"
   },
   "outputs": [],
   "source": [
    "# TODO: Implement LeNet-like architecture for SVHN task\n",
    "lenet_model = nn.Sequential(\n",
    "            nn.Conv2d(in_channels=3, out_channels=6, kernel_size=5, padding=0),\n",
    "            nn.ReLU(inplace=True),\n",
    "            nn.MaxPool2d(kernel_size=2),\n",
    "    \n",
    "            nn.Conv2d(in_channels=6, out_channels=16, kernel_size=5, padding=0),\n",
    "            nn.ReLU(inplace=True),\n",
    "            nn.MaxPool2d(kernel_size=2),\n",
    "            \n",
    "            Flattener(),\n",
    "            nn.Linear(16*5*5, 120),\n",
    "            nn.ReLU(inplace=True),\n",
    "            nn.Linear(120, 84),\n",
    "            nn.ReLU(inplace=True),\n",
    "            nn.Linear(84, 10)\n",
    "    \n",
    "          )\n",
    "\n",
    "lenet_model.type(torch.FloatTensor)\n",
    "lenet_model.to(device)\n",
    "\n",
    "loss = nn.CrossEntropyLoss().type(torch.FloatTensor)\n",
    "optimizer = optim.SGD(lenet_model.parameters(), lr=1e-1, weight_decay=1e-4)"
   ]
  },
  {
   "cell_type": "code",
   "execution_count": 20,
   "metadata": {
    "colab": {},
    "colab_type": "code",
    "id": "WMmaPfdeKk9H"
   },
   "outputs": [
    {
     "name": "stdout",
     "output_type": "stream",
     "text": [
      "Average loss: 1.408254, Train accuracy: 0.520032, Val accuracy: 0.813807\n",
      "Average loss: 0.580891, Train accuracy: 0.823346, Val accuracy: 0.868409\n",
      "Average loss: 0.483658, Train accuracy: 0.854042, Val accuracy: 0.886155\n",
      "Average loss: 0.434131, Train accuracy: 0.867642, Val accuracy: 0.898304\n",
      "Average loss: 0.400661, Train accuracy: 0.879654, Val accuracy: 0.902723\n",
      "Average loss: 0.372136, Train accuracy: 0.887503, Val accuracy: 0.903747\n",
      "Average loss: 0.356156, Train accuracy: 0.892793, Val accuracy: 0.922329\n",
      "Average loss: 0.338160, Train accuracy: 0.898560, Val accuracy: 0.905556\n",
      "Average loss: 0.324144, Train accuracy: 0.903406, Val accuracy: 0.929546\n",
      "Average loss: 0.311937, Train accuracy: 0.904310, Val accuracy: 0.927652\n"
     ]
    }
   ],
   "source": [
    "# Let's train it!\n",
    "loss_history, train_history, val_history = train_model(lenet_model, train_aug_loader, val_loader, \n",
    "                                                       loss, optimizer, 10)"
   ]
  },
  {
   "cell_type": "markdown",
   "metadata": {
    "colab_type": "text",
    "id": "u_O9qiYySvuj"
   },
   "source": [
    "# Подбор гиперпараметров"
   ]
  },
  {
   "cell_type": "markdown",
   "metadata": {},
   "source": [
    "добавление шага для anneal_epochs"
   ]
  },
  {
   "cell_type": "code",
   "execution_count": 21,
   "metadata": {},
   "outputs": [],
   "source": [
    "def train_model2(model, train_loader, val_loader, loss, optimizer, num_epochs, step_size,  annl_coeff ): \n",
    "    scheduler = optim.lr_scheduler.StepLR(optimizer=optimizer, step_size=step_size, gamma=annl_coeff )\n",
    "    loss_history = []\n",
    "    train_history = []\n",
    "    val_history = []\n",
    "    for epoch in range(num_epochs):\n",
    "        model.train() # Enter train mode\n",
    "        \n",
    "        loss_accum = 0\n",
    "        correct_samples = 0\n",
    "        total_samples = 0\n",
    "        for i_step, (x, y) in enumerate(train_loader):\n",
    "          \n",
    "            x_gpu = x.to(device)\n",
    "            y_gpu = y.to(device)\n",
    "            prediction = model(x_gpu)    \n",
    "            loss_value = loss(prediction, y_gpu)\n",
    "            optimizer.zero_grad()\n",
    "            loss_value.backward()\n",
    "            optimizer.step()\n",
    "            \n",
    "            _, indices = torch.max(prediction, 1)\n",
    "            correct_samples += torch.sum(indices == y_gpu)\n",
    "            total_samples += y.shape[0]\n",
    "            \n",
    "            loss_accum += loss_value\n",
    "            \n",
    "        scheduler.step()\n",
    "        \n",
    "        ave_loss = loss_accum / i_step\n",
    "        train_accuracy = float(correct_samples) / total_samples\n",
    "        val_accuracy = compute_accuracy(model, val_loader)\n",
    "        \n",
    "        loss_history.append(float(ave_loss))\n",
    "        train_history.append(train_accuracy)\n",
    "        val_history.append(val_accuracy)\n",
    "        \n",
    "        print(\"Average loss: %f, Train accuracy: %f, Val accuracy: %f\" % (ave_loss, train_accuracy, val_accuracy))\n",
    "        \n",
    "    return loss_history, train_history, val_history"
   ]
  },
  {
   "cell_type": "code",
   "execution_count": 22,
   "metadata": {},
   "outputs": [
    {
     "data": {
      "text/plain": [
       "Sequential(\n",
       "  (0): Conv2d(3, 6, kernel_size=(5, 5), stride=(1, 1))\n",
       "  (1): ReLU(inplace=True)\n",
       "  (2): MaxPool2d(kernel_size=2, stride=2, padding=0, dilation=1, ceil_mode=False)\n",
       "  (3): Conv2d(6, 16, kernel_size=(5, 5), stride=(1, 1))\n",
       "  (4): ReLU(inplace=True)\n",
       "  (5): MaxPool2d(kernel_size=2, stride=2, padding=0, dilation=1, ceil_mode=False)\n",
       "  (6): Flattener()\n",
       "  (7): Linear(in_features=400, out_features=120, bias=True)\n",
       "  (8): ReLU(inplace=True)\n",
       "  (9): Linear(in_features=120, out_features=84, bias=True)\n",
       "  (10): ReLU(inplace=True)\n",
       "  (11): Linear(in_features=84, out_features=10, bias=True)\n",
       ")"
      ]
     },
     "execution_count": 22,
     "metadata": {},
     "output_type": "execute_result"
    }
   ],
   "source": [
    "lenet_model = nn.Sequential(\n",
    "            nn.Conv2d(in_channels=3, out_channels=6, kernel_size=5, padding=0),\n",
    "            nn.ReLU(inplace=True),\n",
    "            nn.MaxPool2d(kernel_size=2),\n",
    "    \n",
    "            nn.Conv2d(in_channels=6, out_channels=16, kernel_size=5, padding=0),\n",
    "            nn.ReLU(inplace=True),\n",
    "            nn.MaxPool2d(kernel_size=2),\n",
    "            \n",
    "            Flattener(),\n",
    "            nn.Linear(16*5*5, 120),\n",
    "            nn.ReLU(inplace=True),\n",
    "            nn.Linear(120, 84),\n",
    "            nn.ReLU(inplace=True),\n",
    "            nn.Linear(84, 10)\n",
    "    \n",
    "          )\n",
    "lenet_model.type(torch.FloatTensor)\n",
    "lenet_model.to(device)"
   ]
  },
  {
   "cell_type": "code",
   "execution_count": 23,
   "metadata": {
    "colab": {},
    "colab_type": "code",
    "id": "i6mhfdQ9K-N3",
    "scrolled": true
   },
   "outputs": [
    {
     "name": "stdout",
     "output_type": "stream",
     "text": [
      "[0.1, 5.0, 0.001]\n",
      "Average loss: 1.342948, Train accuracy: 0.548920, Val accuracy: 0.828089\n",
      "Average loss: 0.602204, Train accuracy: 0.817886, Val accuracy: 0.863751\n",
      "Average loss: 0.505928, Train accuracy: 0.847712, Val accuracy: 0.878596\n",
      "Average loss: 0.456562, Train accuracy: 0.862625, Val accuracy: 0.887930\n",
      "Average loss: 0.417360, Train accuracy: 0.872982, Val accuracy: 0.907808\n",
      "Average loss: 0.325351, Train accuracy: 0.903372, Val accuracy: 0.926049\n",
      "Average loss: 0.305240, Train accuracy: 0.908695, Val accuracy: 0.929939\n",
      "Average loss: 0.296092, Train accuracy: 0.910914, Val accuracy: 0.932038\n",
      "Average loss: 0.287087, Train accuracy: 0.914702, Val accuracy: 0.934171\n",
      "Average loss: 0.281729, Train accuracy: 0.916425, Val accuracy: 0.935809\n",
      "[0.01, 20.0, 1e-05]\n",
      "Average loss: 0.264828, Train accuracy: 0.921697, Val accuracy: 0.940296\n",
      "Average loss: 0.259186, Train accuracy: 0.922482, Val accuracy: 0.941201\n",
      "Average loss: 0.253768, Train accuracy: 0.923455, Val accuracy: 0.942566\n",
      "Average loss: 0.251126, Train accuracy: 0.925707, Val accuracy: 0.944067\n",
      "Average loss: 0.248564, Train accuracy: 0.926219, Val accuracy: 0.945296\n",
      "Average loss: 0.241488, Train accuracy: 0.927840, Val accuracy: 0.945671\n",
      "Average loss: 0.238384, Train accuracy: 0.929922, Val accuracy: 0.947412\n",
      "Average loss: 0.235064, Train accuracy: 0.929342, Val accuracy: 0.948879\n",
      "Average loss: 0.231271, Train accuracy: 0.929615, Val accuracy: 0.950005\n",
      "Average loss: 0.229923, Train accuracy: 0.932259, Val accuracy: 0.951421\n",
      "[0.0001, 15.0, 1e-05]\n",
      "Average loss: 0.217478, Train accuracy: 0.934614, Val accuracy: 0.951984\n",
      "Average loss: 0.218407, Train accuracy: 0.935058, Val accuracy: 0.952616\n",
      "Average loss: 0.215131, Train accuracy: 0.935945, Val accuracy: 0.952940\n",
      "Average loss: 0.217153, Train accuracy: 0.935450, Val accuracy: 0.953213\n",
      "Average loss: 0.214143, Train accuracy: 0.936849, Val accuracy: 0.953401\n",
      "Average loss: 0.213355, Train accuracy: 0.937242, Val accuracy: 0.953384\n",
      "Average loss: 0.213652, Train accuracy: 0.936645, Val accuracy: 0.953435\n",
      "Average loss: 0.212431, Train accuracy: 0.938112, Val accuracy: 0.953571\n",
      "Average loss: 0.212467, Train accuracy: 0.937788, Val accuracy: 0.953640\n",
      "Average loss: 0.212831, Train accuracy: 0.938249, Val accuracy: 0.953708\n",
      "[1.0, 15.0, 1e-07]\n",
      "Average loss: inf, Train accuracy: 0.187029, Val accuracy: 0.189213\n",
      "Average loss: 2.242868, Train accuracy: 0.188342, Val accuracy: 0.189213\n",
      "Average loss: 2.242724, Train accuracy: 0.188786, Val accuracy: 0.189213\n",
      "Average loss: 2.243102, Train accuracy: 0.188564, Val accuracy: 0.189213\n",
      "Average loss: 2.242440, Train accuracy: 0.188138, Val accuracy: 0.189213\n",
      "Average loss: inf, Train accuracy: 0.187865, Val accuracy: 0.189213\n",
      "Average loss: 2.242529, Train accuracy: 0.188445, Val accuracy: 0.189213\n",
      "Average loss: 2.242968, Train accuracy: 0.187984, Val accuracy: 0.189213\n",
      "Average loss: 2.242776, Train accuracy: 0.188155, Val accuracy: 0.189213\n",
      "Average loss: 2.243152, Train accuracy: 0.188052, Val accuracy: 0.189213\n",
      "[0.01, 15.0, 0.001]\n",
      "Average loss: 2.240326, Train accuracy: 0.189213, Val accuracy: 0.189213\n",
      "Average loss: 2.239104, Train accuracy: 0.189213, Val accuracy: 0.189213\n",
      "Average loss: 2.239031, Train accuracy: 0.189213, Val accuracy: 0.189213\n",
      "Average loss: 2.239008, Train accuracy: 0.189213, Val accuracy: 0.189213\n",
      "Average loss: 2.238986, Train accuracy: 0.189213, Val accuracy: 0.189213\n",
      "Average loss: 2.239011, Train accuracy: 0.189213, Val accuracy: 0.189213\n",
      "Average loss: 2.239036, Train accuracy: 0.189213, Val accuracy: 0.189213\n",
      "Average loss: 2.239023, Train accuracy: 0.189213, Val accuracy: 0.189213\n",
      "Average loss: 2.239039, Train accuracy: 0.189213, Val accuracy: 0.189213\n",
      "Average loss: 2.239006, Train accuracy: 0.189213, Val accuracy: 0.189213\n",
      "[0.01, 1.0, 0.0001]\n",
      "Average loss: 2.239006, Train accuracy: 0.189213, Val accuracy: 0.189213\n",
      "Average loss: 2.239001, Train accuracy: 0.189213, Val accuracy: 0.189213\n",
      "Average loss: 2.238925, Train accuracy: 0.189213, Val accuracy: 0.189213\n",
      "Average loss: 2.238932, Train accuracy: 0.189213, Val accuracy: 0.189213\n",
      "Average loss: 2.238938, Train accuracy: 0.189213, Val accuracy: 0.189213\n",
      "Average loss: 2.238950, Train accuracy: 0.189213, Val accuracy: 0.189213\n",
      "Average loss: 2.238957, Train accuracy: 0.189213, Val accuracy: 0.189213\n",
      "Average loss: 2.238944, Train accuracy: 0.189213, Val accuracy: 0.189213\n",
      "Average loss: 2.238936, Train accuracy: 0.189213, Val accuracy: 0.189213\n",
      "Average loss: 2.238939, Train accuracy: 0.189213, Val accuracy: 0.189213\n",
      "[0.01, 1.0, 0.0001]\n",
      "Average loss: 2.238993, Train accuracy: 0.189213, Val accuracy: 0.189213\n",
      "Average loss: 2.238951, Train accuracy: 0.189213, Val accuracy: 0.189213\n",
      "Average loss: 2.238965, Train accuracy: 0.189213, Val accuracy: 0.189213\n",
      "Average loss: 2.238969, Train accuracy: 0.189213, Val accuracy: 0.189213\n",
      "Average loss: 2.238967, Train accuracy: 0.189213, Val accuracy: 0.189213\n",
      "Average loss: 2.238953, Train accuracy: 0.189213, Val accuracy: 0.189213\n",
      "Average loss: 2.238951, Train accuracy: 0.189213, Val accuracy: 0.189213\n",
      "Average loss: 2.238953, Train accuracy: 0.189213, Val accuracy: 0.189213\n",
      "Average loss: 2.238929, Train accuracy: 0.189213, Val accuracy: 0.189213\n",
      "Average loss: 2.238949, Train accuracy: 0.189213, Val accuracy: 0.189213\n",
      "[1.0, 10.0, 0.0001]\n",
      "Average loss: 2.242477, Train accuracy: 0.188513, Val accuracy: 0.189213\n",
      "Average loss: 2.242583, Train accuracy: 0.188189, Val accuracy: 0.189213\n",
      "Average loss: 2.242631, Train accuracy: 0.188342, Val accuracy: 0.189213\n",
      "Average loss: 2.242648, Train accuracy: 0.187848, Val accuracy: 0.189213\n",
      "Average loss: 2.242611, Train accuracy: 0.188035, Val accuracy: 0.189213\n",
      "Average loss: 2.242966, Train accuracy: 0.188530, Val accuracy: 0.189213\n",
      "Average loss: 2.242432, Train accuracy: 0.188889, Val accuracy: 0.189213\n",
      "Average loss: 2.242536, Train accuracy: 0.188018, Val accuracy: 0.189213\n",
      "Average loss: 2.242554, Train accuracy: 0.188035, Val accuracy: 0.189213\n",
      "Average loss: 2.242291, Train accuracy: 0.188223, Val accuracy: 0.189213\n",
      "[0.001, 10.0, 1e-05]\n",
      "Average loss: 2.244253, Train accuracy: 0.189213, Val accuracy: 0.189213\n",
      "Average loss: 2.243276, Train accuracy: 0.189213, Val accuracy: 0.189213\n",
      "Average loss: 2.242507, Train accuracy: 0.189213, Val accuracy: 0.189213\n",
      "Average loss: 2.241921, Train accuracy: 0.189213, Val accuracy: 0.189213\n",
      "Average loss: 2.241383, Train accuracy: 0.189213, Val accuracy: 0.189213\n",
      "Average loss: 2.240990, Train accuracy: 0.189213, Val accuracy: 0.189213\n",
      "Average loss: 2.240644, Train accuracy: 0.189213, Val accuracy: 0.189213\n",
      "Average loss: 2.240389, Train accuracy: 0.189213, Val accuracy: 0.189213\n",
      "Average loss: 2.240133, Train accuracy: 0.189213, Val accuracy: 0.189213\n",
      "Average loss: 2.240007, Train accuracy: 0.189213, Val accuracy: 0.189213\n",
      "[0.01, 50.0, 1e-05]\n",
      "Average loss: 2.239510, Train accuracy: 0.189213, Val accuracy: 0.189213\n",
      "Average loss: 2.239152, Train accuracy: 0.189213, Val accuracy: 0.189213\n",
      "Average loss: 2.239021, Train accuracy: 0.189213, Val accuracy: 0.189213\n",
      "Average loss: 2.239026, Train accuracy: 0.189213, Val accuracy: 0.189213\n",
      "Average loss: 2.239042, Train accuracy: 0.189213, Val accuracy: 0.189213\n",
      "Average loss: 2.238983, Train accuracy: 0.189213, Val accuracy: 0.189213\n",
      "Average loss: 2.239026, Train accuracy: 0.189213, Val accuracy: 0.189213\n",
      "Average loss: 2.238959, Train accuracy: 0.189213, Val accuracy: 0.189213\n",
      "Average loss: 2.238993, Train accuracy: 0.189213, Val accuracy: 0.189213\n",
      "Average loss: 2.239021, Train accuracy: 0.189213, Val accuracy: 0.189213\n"
     ]
    }
   ],
   "source": [
    "# The key hyperparameters we're going to tune are learning speed, annealing rate and regularization\n",
    "# We also encourage you to try different optimizers as well\n",
    "\n",
    "Hyperparams = namedtuple(\"Hyperparams\", ['learning_rate', 'anneal_epochs', 'reg'])\n",
    "RunResult = namedtuple(\"RunResult\", ['model', 'train_history', 'val_history', 'final_val_accuracy'])\n",
    "\n",
    "learning_rates = [1e0, 1e-1, 1e-2, 1e-3, 1e-4]\n",
    "anneal_coeff = 0.2\n",
    "anneal_epochs = [1, 5, 10, 15, 20, 50]\n",
    "reg = [1e-3, 1e-4, 1e-5, 1e-7]\n",
    "\n",
    "batch_size = 64\n",
    "epoch_num = 10\n",
    "\n",
    "\n",
    "# Record all the runs here\n",
    "# Key should be Hyperparams and values should be RunResult\n",
    "run_record = {} \n",
    "\n",
    "# Use grid search or random search and record all runs in run_record dictionnary \n",
    "# Important: perform search in logarithmic space!\n",
    "\n",
    "# TODO: Your code here!\n",
    "\n",
    "\n",
    "\n",
    "random_nchoice = 10\n",
    "for n in range(random_nchoice):\n",
    "    \n",
    "    params_choice = [random.sample(param, 1) for param in  [learning_rates,  anneal_epochs, reg]]\n",
    "    params_choice = [float(i[0]) for i in params_choice]\n",
    "    print(params_choice)\n",
    "    loss = nn.CrossEntropyLoss().type(torch.FloatTensor)\n",
    "    optimizer = optim.SGD(lenet_model.parameters(), lr=params_choice[0], weight_decay=params_choice[2])\n",
    "    \n",
    "    loss_history, train_history, val_history = train_model2(lenet_model, train_aug_loader, val_loader, \\\n",
    "                                                       loss, optimizer, 10,\\\n",
    "                                                       params_choice[1], anneal_coeff)\n",
    "    \n",
    "    run_record[Hyperparams(*params_choice)] = RunResult(lenet_model, train_history, val_history, val_history[-1])"
   ]
  },
  {
   "cell_type": "code",
   "execution_count": 24,
   "metadata": {
    "colab": {
     "base_uri": "https://localhost:8080/",
     "height": 34
    },
    "colab_type": "code",
    "id": "Y6xExdw8JB1l",
    "outputId": "a9ad86f8-3e29-45cc-d33f-e6170018a4ed"
   },
   "outputs": [
    {
     "name": "stdout",
     "output_type": "stream",
     "text": [
      "Best validation accuracy: 0.95, best hyperparams: Hyperparams(learning_rate=0.0001, anneal_epochs=15.0, reg=1e-05)\n"
     ]
    }
   ],
   "source": [
    "best_val_accuracy = None\n",
    "best_hyperparams = None\n",
    "best_run = None\n",
    "\n",
    "for hyperparams, run_result in run_record.items():\n",
    "    if best_val_accuracy is None or best_val_accuracy < run_result.final_val_accuracy:\n",
    "        best_val_accuracy = run_result.final_val_accuracy\n",
    "        best_hyperparams = hyperparams\n",
    "        best_run = run_result\n",
    "        \n",
    "print(\"Best validation accuracy: %4.2f, best hyperparams: %s\" % (best_val_accuracy, best_hyperparams))\n",
    "        "
   ]
  },
  {
   "cell_type": "markdown",
   "metadata": {
    "colab_type": "text",
    "id": "LOmsR0uVgtgf"
   },
   "source": [
    "# Свободное упражнение - догоним и перегоним LeNet!\n",
    "\n",
    "Попробуйте найти архитектуру и настройки тренировки, чтобы выступить лучше наших бейзлайнов.\n",
    "\n",
    "Что можно и нужно попробовать:\n",
    "- BatchNormalization (для convolution layers он в PyTorch называется [batchnorm2d](https://pytorch.org/docs/stable/nn.html#batchnorm2d))\n",
    "- Изменить количество слоев и их толщину\n",
    "- Изменять количество эпох тренировки\n",
    "- Попробовать и другие агментации"
   ]
  },
  {
   "cell_type": "code",
   "execution_count": 25,
   "metadata": {},
   "outputs": [
    {
     "data": {
      "text/plain": [
       "Sequential(\n",
       "  (0): Conv2d(3, 6, kernel_size=(7, 7), stride=(1, 1), padding=(1, 1))\n",
       "  (1): ReLU(inplace=True)\n",
       "  (2): BatchNorm2d(6, eps=1e-05, momentum=0.1, affine=True, track_running_stats=True)\n",
       "  (3): MaxPool2d(kernel_size=2, stride=2, padding=0, dilation=1, ceil_mode=False)\n",
       "  (4): Conv2d(6, 18, kernel_size=(7, 7), stride=(1, 1), padding=(1, 1))\n",
       "  (5): ReLU(inplace=True)\n",
       "  (6): BatchNorm2d(18, eps=1e-05, momentum=0.1, affine=True, track_running_stats=True)\n",
       "  (7): MaxPool2d(kernel_size=2, stride=2, padding=0, dilation=1, ceil_mode=False)\n",
       "  (8): Conv2d(18, 120, kernel_size=(7, 7), stride=(1, 1), padding=(1, 1))\n",
       "  (9): ReLU(inplace=True)\n",
       "  (10): BatchNorm2d(120, eps=1e-05, momentum=0.1, affine=True, track_running_stats=True)\n",
       "  (11): Linear(in_features=120, out_features=84, bias=True)\n",
       "  (12): ReLU(inplace=True)\n",
       "  (13): BatchNorm1d(84, eps=1e-05, momentum=0.1, affine=True, track_running_stats=True)\n",
       "  (14): Linear(in_features=84, out_features=10, bias=True)\n",
       ")"
      ]
     },
     "execution_count": 25,
     "metadata": {},
     "output_type": "execute_result"
    }
   ],
   "source": [
    "my_model = nn.Sequential(\n",
    "            nn.Conv2d(in_channels=3, out_channels=6, kernel_size=7, padding=1),\n",
    "            nn.ReLU(inplace=True),\n",
    "            nn.BatchNorm2d(6),\n",
    "            nn.MaxPool2d(kernel_size=2),\n",
    "    \n",
    "            nn.Conv2d(in_channels=6, out_channels=18, kernel_size=7, padding=1),\n",
    "            nn.ReLU(inplace=True),\n",
    "            nn.BatchNorm2d(18),\n",
    "            nn.MaxPool2d(kernel_size=2),\n",
    "    \n",
    "            nn.Conv2d(in_channels=18, out_channels=120, kernel_size=7, padding=1),\n",
    "            nn.ReLU(inplace=True),\n",
    "            nn.BatchNorm2d(120),\n",
    "            \n",
    "            nn.Linear(in_features=120, out_features=84),\n",
    "            nn.ReLU(inplace=True),\n",
    "            nn.BatchNorm1d(84),\n",
    "            nn.Linear(in_features=84, out_features=10),\n",
    "          )\n",
    "my_model.type(torch.FloatTensor)\n",
    "my_model.to(device)"
   ]
  },
  {
   "cell_type": "code",
   "execution_count": null,
   "metadata": {
    "scrolled": true
   },
   "outputs": [],
   "source": [
    "# The key hyperparameters we're going to tune are learning speed, annealing rate and regularization\n",
    "# We also encourage you to try different optimizers as well\n",
    "\n",
    "Hyperparams = namedtuple(\"Hyperparams\", ['learning_rate', 'anneal_epochs', 'reg'])\n",
    "RunResult = namedtuple(\"RunResult\", ['model', 'train_history', 'val_history', 'final_val_accuracy'])\n",
    "learning_rates = [1e0, 1e-1, 1e-2, 1e-3, 1e-4]\n",
    "anneal_coeff = 0.2\n",
    "anneal_epochs = [1, 5, 10, 15, 20, 50]\n",
    "reg = [1e-3, 1e-4, 1e-5, 1e-7]\n",
    "\n",
    "batch_size = 64\n",
    "epoch_num = 10\n",
    "\n",
    "\n",
    "# Record all the runs here\n",
    "# Key should be Hyperparams and values should be RunResult\n",
    "run_record = {} \n",
    "\n",
    "# Use grid search or random search and record all runs in run_record dictionnary \n",
    "# Important: perform search in logarithmic space!\n",
    "\n",
    "# TODO: Your code here!\n",
    "\n",
    "\n",
    "\n",
    "random_nchoice = 5\n",
    "for n in range(random_nchoice):\n",
    "    \n",
    "    params_choice = [random.sample(param, 1) for param in  [learning_rates,  anneal_epochs, reg]]\n",
    "    params_choice = [float(i[0]) for i in params_choice]\n",
    "    print(params_choice)\n",
    "    loss = nn.CrossEntropyLoss().type(torch.FloatTensor)\n",
    "    optimizer = optim.SGD(my_model.parameters(), lr=params_choice[0], weight_decay=params_choice[2])\n",
    "    \n",
    "    loss_history, train_history, val_history = train_model2(my_model, train_aug_loader, val_loader, \\\n",
    "                                                       loss, optimizer, 10,\\\n",
    "                                                       params_choice[1], anneal_coeff)\n",
    "    \n",
    "    run_record[Hyperparams(*params_choice)] = RunResult(my_model, train_history, val_history, val_history[-1])"
   ]
  },
  {
   "cell_type": "markdown",
   "metadata": {
    "colab_type": "text",
    "id": "ubeKgBcnhx7N"
   },
   "source": [
    "# Финальный аккорд - проверим лучшую модель на test set\n",
    "\n",
    "В качестве разнообразия - напишите код для прогона модели на test set вы.\n",
    "\n",
    "В результате вы должны натренировать модель, которая покажет более **90%** точности на test set.  \n",
    "Как водится, лучший результат в группе получит дополнительные баллы!"
   ]
  },
  {
   "cell_type": "code",
   "execution_count": null,
   "metadata": {
    "colab": {},
    "colab_type": "code",
    "id": "EIqM1kdeh-hd"
   },
   "outputs": [],
   "source": [
    "# TODO Write the code to compute accuracy on test set\n",
    "\n",
    "test_loader = torch.utils.data.DataLoader(data_test, batch_size=batch_size)\n",
    "final_test_accuracy = compute_accuracy(best_model, test_loader)\n",
    "print(\"Final test accuracy - \", final_test_accuracy)"
   ]
  },
  {
   "cell_type": "code",
   "execution_count": null,
   "metadata": {},
   "outputs": [],
   "source": []
  },
  {
   "cell_type": "code",
   "execution_count": null,
   "metadata": {},
   "outputs": [],
   "source": []
  }
 ],
 "metadata": {
  "accelerator": "GPU",
  "colab": {
   "collapsed_sections": [],
   "name": "PyTorch_CNN.ipynb",
   "provenance": [],
   "version": "0.3.2"
  },
  "kernelspec": {
   "display_name": "Python 3 (ipykernel)",
   "language": "python",
   "name": "python3"
  },
  "language_info": {
   "codemirror_mode": {
    "name": "ipython",
    "version": 3
   },
   "file_extension": ".py",
   "mimetype": "text/x-python",
   "name": "python",
   "nbconvert_exporter": "python",
   "pygments_lexer": "ipython3",
   "version": "3.9.12"
  }
 },
 "nbformat": 4,
 "nbformat_minor": 1
}
